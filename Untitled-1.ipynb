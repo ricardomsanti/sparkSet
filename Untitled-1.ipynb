{
 "cells": [
  {
   "cell_type": "code",
   "execution_count": null,
   "metadata": {},
   "outputs": [],
   "source": [
    "#%%\n",
    "\n",
    "import pandas as pd\n",
    "from pymongo import MongoClient\n",
    "from datetime import datetime, timedelta\n",
    "\n",
    "URI = \"mongodb://localhost:27017/\"\n",
    "CLIENT = MongoClient(URI)\n",
    "DATABASE = CLIENT.get_database(\"local\")\n",
    "COLLECTION = DATABASE.get_collection(\"SPT\")\n",
    "QUERY =    QUERY = COLLECTION.find()\n",
    "T0 = datetime.now()\n",
    "DATA_SIZE = 631000\n",
    "QUERY_LIST = list(QUERY.limit(DATA_SIZE))\n",
    "\n",
    "ct  =[ x for x in QUERY_LIST]\n",
    "\n",
    "T1 = datetime.now()\n",
    "MEMORY_LIST = []\n",
    "for x in ct:\n",
    "    MEMORY_LIST.append(x)\n",
    "\n",
    "print(len(ct))\n",
    "print(f\"RESULTS: DATA_SIZE = {DATA_SIZE}, QUERY_TIME = {(T1-T0).seconds} seconds\")\n"
   ]
  },
  {
   "cell_type": "code",
   "execution_count": null,
   "metadata": {},
   "outputs": [],
   "source": [
    "def mongoTestQuery():\n",
    "    QUERY =    QUERY = COLLECTION.find()\n",
    "    T0 = datetime.now()\n",
    "    DATA_SIZE = 631000\n",
    "    QUERY_LIST = list(QUERY.limit(DATA_SIZE))\n",
    "\n",
    "    ct  =[ x for x in QUERY_LIST]\n",
    "\n",
    "    T1 = datetime.now()\n",
    "    MEMORY_LIST = []\n",
    "    for x in ct:\n",
    "        MEMORY_LIST.append(x)\n",
    "\n",
    "    print(len(ct))\n",
    "    print(f\"RESULTS: DATA_SIZE = {DATA_SIZE}, QUERY_TIME = {(T1-T0).seconds} seconds\")\n",
    "    \n",
    "\n",
    "    T0 = datetime.now()\n",
    "    DATA_SIZE = 631000\n",
    "    QUERY_LIST = list(QUERY.limit(DATA_SIZE))\n",
    "\n",
    "    ct  =[ x for x in QUERY_LIST]\n",
    "\n",
    "    T1 = datetime.now()\n",
    "    MEMORY_LIST = []\n",
    "    for x in ct:\n",
    "        MEMORY_LIST.append(x)\n",
    "\n",
    "    print(len(ct))\n",
    "    print(f\"RESULTS: DATA_SIZE = {DATA_SIZE}, QUERY_TIME = {(T1-T0).seconds} seconds\")\n",
    "    #%%\n",
    "#mongoTestQuery()\n",
    "\n"
   ]
  },
  {
   "cell_type": "code",
   "execution_count": null,
   "metadata": {},
   "outputs": [],
   "source": []
  },
  {
   "cell_type": "code",
   "execution_count": null,
   "metadata": {},
   "outputs": [],
   "source": [
    "QUERY =    QUERY = COLLECTION.find()\n",
    "T0 = datetime.now()\n",
    "DATA_SIZE = 631000\n",
    "QUERY_LIST = list(QUERY.limit(DATA_SIZE))\n",
    "\n",
    "ct  =[ x for x in QUERY_LIST]\n",
    "\n",
    "T1 = datetime.now()\n",
    "MEMORY_LIST = []\n",
    "for x in ct:\n",
    "    MEMORY_LIST.append(x)\n",
    "\n",
    "print(len(ct))\n",
    "print(f\"RESULTS: DATA_SIZE = {DATA_SIZE}, QUERY_TIME = {(T1-T0).seconds} seconds\")\n",
    "1}})\n",
    "T0 = datetime.now()\n",
    "DATA_SIZE = 60\n",
    "QUERY_LIST = list(QUERY.limit(DATA_SIZE))\n"
   ]
  },
  {
   "cell_type": "code",
   "execution_count": null,
   "metadata": {},
   "outputs": [],
   "source": [
    "queryIds = [x for x in COLLECTION.find({},{'_id'})]\n",
    "len(queryIds)"
   ]
  },
  {
   "cell_type": "code",
   "execution_count": null,
   "metadata": {},
   "outputs": [],
   "source": [
    "FINAL_ID = []\n",
    "ID_LIST  = [x for x in COLLECTION.find({},{\"_id\"})]\n",
    "def maxRunWorkerTask(param=None):\n",
    "    ID = param\n",
    "    #QUERY = COLLECTION.aggregate([{ '$match' : {'_id': ID},{'$project' :{}}}])\n",
    "    QUERY = [x for x in COLLECTION.find({ 'match' : {'_id': ID}})]\n",
    "    #TRANSFORMATION FUNC\n",
    "    FINAL_ID.append(QUERY)\n",
    "for x in ID_LIST:\n",
    "    maxRunWorkerTask(x)\n",
    "FINAL_IDB"
   ]
  },
  {
   "cell_type": "code",
   "execution_count": 24,
   "metadata": {},
   "outputs": [
    {
     "data": {
      "text/plain": [
       "[{'_id': ObjectId('60aefa3f3c48af0600fe4518')},\n",
       " {'_id': ObjectId('60aefa3f3c48af0600fe451a')},\n",
       " {'_id': ObjectId('60aefa3f3c48af0600fe451c')},\n",
       " {'_id': ObjectId('60aefa3f3c48af0600fe451e')},\n",
       " {'_id': ObjectId('60aefa3f3c48af0600fe4520')},\n",
       " {'_id': ObjectId('60aefa3f3c48af0600fe4522')},\n",
       " {'_id': ObjectId('60aefa3f3c48af0600fe4524')},\n",
       " {'_id': ObjectId('60aefa3f3c48af0600fe4526')},\n",
       " {'_id': ObjectId('60aefa3f3c48af0600fe4528')},\n",
       " {'_id': ObjectId('60aefa3f3c48af0600fe452a')},\n",
       " {'_id': ObjectId('60aefa3f3c48af0600fe452c')},\n",
       " {'_id': ObjectId('60aefa3f3c48af0600fe452e')},\n",
       " {'_id': ObjectId('60aefa3f3c48af0600fe4530')},\n",
       " {'_id': ObjectId('60aefa3f3c48af0600fe4532')},\n",
       " {'_id': ObjectId('60aefa3f3c48af0600fe4534')},\n",
       " {'_id': ObjectId('60aefa3f3c48af0600fe4536')},\n",
       " {'_id': ObjectId('60aefa3f3c48af0600fe4538')},\n",
       " {'_id': ObjectId('60aefa3f3c48af0600fe453a')},\n",
       " {'_id': ObjectId('60aefa3f3c48af0600fe453c')},\n",
       " {'_id': ObjectId('60aefa3f3c48af0600fe453e')}]"
      ]
     },
     "execution_count": 24,
     "metadata": {},
     "output_type": "execute_result"
    }
   ],
   "source": [
    "ID_LIST  = [x for x in COLLECTION.find({},{\"_id\"})][:20]\n",
    "ID_LIST"
   ]
  },
  {
   "cell_type": "code",
   "execution_count": 25,
   "metadata": {},
   "outputs": [
    {
     "name": "stdout",
     "output_type": "stream",
     "text": [
      "50\n",
      "0\n",
      " QUERY_TIME = 1385 seconds\n"
     ]
    },
    {
     "data": {
      "text/plain": [
       "0"
      ]
     },
     "execution_count": 25,
     "metadata": {},
     "output_type": "execute_result"
    }
   ],
   "source": [
    "\n",
    "import concurrent.futures\n",
    "import sys\n",
    "\n",
    "\n",
    "ID_LIST  = [x for x in COLLECTION.find({},{\"_id\"})][:50]\n",
    "FINAL_ID = []\n",
    "print(len(ID_LIST))\n",
    "print(len(FINAL_ID))\n",
    "#FUNCTION 1--------------------------\n",
    "def maxRunWorkerTask(param=None):\n",
    "    ID = param\n",
    "    #QUERY = COLLECTION.aggregate([{ '$match' : {'_id': ID},{'$project' :{}}}])\n",
    "    QUERY = [x for x in COLLECTION.aggregate([{ '$match' : {'$_id': ID}}])]    #TRANSFORMATION FUNC\n",
    "    FINAL_ID.append(QUERY)\n",
    "\n",
    "#FUNCTION 2--------------------------\n",
    "def maxRunWorker(max_workers=4, mode=\"submit\"):    \n",
    "    T1 = datetime.now()\n",
    "    with concurrent.futures.ThreadPoolExecutor(max_workers=max_workers) as executor:\n",
    "        if mode == \"submit\":\n",
    "            for x in ID_LIST:\n",
    "                executor.submit(maxRunWorkerTask, param=x)\n",
    "        else:\n",
    "            executor.map(maxRunWorkerTask, queryIds)\n",
    "        \n",
    "    print(f\" QUERY_TIME = {(T1-T0).seconds} seconds\")\n",
    "    T1 = datetime.now()\n",
    "maxRunWorker(mode=\"map\")\n",
    "len(FINAL_ID)\n",
    " "
   ]
  },
  {
   "cell_type": "code",
   "execution_count": 21,
   "metadata": {},
   "outputs": [
    {
     "data": {
      "text/plain": [
       "[]"
      ]
     },
     "execution_count": 21,
     "metadata": {},
     "output_type": "execute_result"
    }
   ],
   "source": [
    "FINAL_ID"
   ]
  },
  {
   "cell_type": "code",
   "execution_count": null,
   "metadata": {},
   "outputs": [],
   "source": [
    "fi"
   ]
  }
 ],
 "metadata": {
  "interpreter": {
   "hash": "de2447fb81e3bdedb6496b06bacdb2c52fb1921ab17eb741c5f37bae09bc662a"
  },
  "kernelspec": {
   "display_name": "Python 3.9.10 64-bit (windows store)",
   "language": "python",
   "name": "python3"
  },
  "language_info": {
   "codemirror_mode": {
    "name": "ipython",
    "version": 3
   },
   "file_extension": ".py",
   "mimetype": "text/x-python",
   "name": "python",
   "nbconvert_exporter": "python",
   "pygments_lexer": "ipython3",
   "version": "3.9.10"
  },
  "orig_nbformat": 4
 },
 "nbformat": 4,
 "nbformat_minor": 2
}
